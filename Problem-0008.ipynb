{
 "cells": [
  {
   "cell_type": "markdown",
   "metadata": {},
   "source": [
    "## Problem-8\n",
    "\n",
    "The four adjacent digits in the 1000-digit number that have the greatest product are 9 × 9 × 8 × 9 = 5832. Find the thirteen adjacent digits in the 1000-digit number that have the greatest product. What is the value of this product?"
   ]
  },
  {
   "cell_type": "code",
   "execution_count": 1,
   "metadata": {},
   "outputs": [],
   "source": [
    "import math\n",
    "import time"
   ]
  },
  {
   "cell_type": "markdown",
   "metadata": {},
   "source": [
    "This is a fairly straightforward problem where we can use the approach of sliding window of size k (k = 13 required here) and find the maximum product of all the products found in these windows.\n",
    "\n",
    "Slight improvement can be made to smartly"
   ]
  },
  {
   "cell_type": "code",
   "execution_count": 2,
   "metadata": {},
   "outputs": [],
   "source": [
    "def read_number(filename):\n",
    "    output = \"\"\n",
    "    f = open(filename, 'r')\n",
    "    contents = f.readlines()\n",
    "    for line in contents:\n",
    "        output += str(line[0:-1])\n",
    "    f.close()\n",
    "    return output"
   ]
  },
  {
   "cell_type": "code",
   "execution_count": 3,
   "metadata": {},
   "outputs": [],
   "source": [
    "input_num = read_number(\"Problem-0008-input.txt\")"
   ]
  },
  {
   "cell_type": "code",
   "execution_count": 4,
   "metadata": {},
   "outputs": [],
   "source": [
    "def find_start_position(input_num, k):\n",
    "    start = 0\n",
    "    while start < len(input_num) and input_num[start] == '0':\n",
    "        start += 1\n",
    "    if start == len(input_num):\n",
    "        return -1\n",
    "    end = start + 1\n",
    "    while end - start < k and end < len(input_num):\n",
    "        if input_num[start] == '0' or input_num[end] == '0':\n",
    "            start = end + 1\n",
    "            end = start + 1\n",
    "        else:\n",
    "            end += 1\n",
    "    if end - start < k or end > len(input_num):\n",
    "        return -1\n",
    "    return start"
   ]
  },
  {
   "cell_type": "code",
   "execution_count": 5,
   "metadata": {},
   "outputs": [],
   "source": [
    "def get_prod(input_num):\n",
    "    prod = 1\n",
    "    for n in input_num:\n",
    "        prod *= int(n)\n",
    "    return prod\n",
    "    \n",
    "def find_max_product(input_num, k):\n",
    "    start = find_start_position(input_num, k)\n",
    "    if start == -1:\n",
    "        return 0\n",
    "    end = start+k-1\n",
    "    max_prod = get_prod(input_num[start:end+1])\n",
    "    curr_prod = max_prod\n",
    "    while end+1 < len(input_num):\n",
    "        \n",
    "        if input_num[end+1] == '0':\n",
    "            start = end + 1 + find_start_position(input_num[end+1:], k)\n",
    "            if start == -1:\n",
    "                return max_prod\n",
    "            end = start+k-1\n",
    "            curr_prod = get_prod(input_num[start:end+1])\n",
    "        else:\n",
    "            curr_prod = int(curr_prod/int(input_num[start])*int(input_num[end+1]))\n",
    "            start += 1\n",
    "            end += 1\n",
    "        max_prod = max(curr_prod, max_prod)\n",
    "    return max_prod"
   ]
  },
  {
   "cell_type": "code",
   "execution_count": 6,
   "metadata": {},
   "outputs": [
    {
     "name": "stdout",
     "output_type": "stream",
     "text": [
      "Maximum product of 4 consecutive numbers:  5832\n",
      "Time taken to find result: 0.001804 sec\n"
     ]
    }
   ],
   "source": [
    "start = time.time()\n",
    "p4 = find_max_product(input_num, 4)\n",
    "end = time.time()\n",
    "print(\"Maximum product of 4 consecutive numbers: \", p4)\n",
    "print(\"Time taken to find result: %f sec\" % (end - start))"
   ]
  },
  {
   "cell_type": "code",
   "execution_count": 7,
   "metadata": {},
   "outputs": [
    {
     "name": "stdout",
     "output_type": "stream",
     "text": [
      "Maximum product of 13 consecutive numbers:  23514624000\n",
      "Time taken to find result: 0.000563 sec\n"
     ]
    }
   ],
   "source": [
    "start = time.time()\n",
    "p13 = find_max_product(input_num, 13)\n",
    "end = time.time()\n",
    "print(\"Maximum product of 13 consecutive numbers: \", p13)\n",
    "print(\"Time taken to find result: %f sec\" % (end - start))"
   ]
  }
 ],
 "metadata": {
  "kernelspec": {
   "display_name": "Python 3",
   "language": "python",
   "name": "python3"
  },
  "language_info": {
   "codemirror_mode": {
    "name": "ipython",
    "version": 3
   },
   "file_extension": ".py",
   "mimetype": "text/x-python",
   "name": "python",
   "nbconvert_exporter": "python",
   "pygments_lexer": "ipython3",
   "version": "3.6.10"
  }
 },
 "nbformat": 4,
 "nbformat_minor": 4
}
