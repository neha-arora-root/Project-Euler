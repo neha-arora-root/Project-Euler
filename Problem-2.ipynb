{
 "cells": [
  {
   "cell_type": "markdown",
   "metadata": {},
   "source": [
    "## Problem-2: Even Fibonacci Numbers "
   ]
  },
  {
   "cell_type": "code",
   "execution_count": 1,
   "metadata": {},
   "outputs": [],
   "source": [
    "upperEnd = 4000000"
   ]
  },
  {
   "cell_type": "markdown",
   "metadata": {},
   "source": [
    "### Brute-force\n",
    "\n",
    "Initialize the first two terms in fibonacci series as F[1] = 1, F[2] = 1. Now we can iteratively find the next terms as F[n] = F[n-1] + F[n-2]. With each new term created that is not greater than upperEnd, check if it is even and add it to the variable sum. After all such terms less than upperEnd have been visited, the sum is the required answer."
   ]
  },
  {
   "cell_type": "code",
   "execution_count": 2,
   "metadata": {},
   "outputs": [
    {
     "name": "stdout",
     "output_type": "stream",
     "text": [
      "4613732\n"
     ]
    }
   ],
   "source": [
    "fib1 = 1\n",
    "fib2 = 1\n",
    "total = 0\n",
    "while (fib2 <= upperEnd):\n",
    "    temp = fib1+fib2\n",
    "    if temp%2 == 0:\n",
    "        total += temp\n",
    "    fib1 = fib2\n",
    "    fib2 = temp\n",
    "    \n",
    "print(total)  "
   ]
  },
  {
   "cell_type": "markdown",
   "metadata": {},
   "source": [
    "#### Time Complexity\n",
    "\n",
    "This approach involves visiting each number in the fibonacci sequence lesser than n (upperEnd). Therefore, if we estimate the number of terms in Fibonacci sequence less than equal to n, say T, the time complexity is O(T)."
   ]
  },
  {
   "cell_type": "markdown",
   "metadata": {},
   "source": [
    "### Method-2: Mathematical approach\n",
    "\n",
    "We can find out $F_{n}$, the $n^{th}$ number in the Fibonacci sequence by using Binet's Fibonacci Number formula,\n",
    "\n",
    "$$ F_{n} = \\frac{\\phi^{n} - (-\\phi)^{-n}}{\\sqrt{5}} $$\n",
    "\n",
    "where $\\phi$ is the golden ratio and given by\n",
    "\n",
    "$$ \\phi = \\frac{1+\\sqrt{5}}{2} $$\n",
    "\n",
    "In our case, if we substitute $F_{n} = 4000000$, we can find out n as follows:\n",
    "<ol>\n",
    "<li> For large n, we can assume the second term in formula to be negligible and thus,\n",
    "\n",
    "$$ F_{n} \\approx \\frac{\\phi^{n}}{\\sqrt{5}} $$\n",
    "\n",
    "<li> Take log on both sides and we get\n",
    "\n",
    "$$ \\log ({F_{n} \\times \\sqrt{5}}) = n \\times \\log{\\phi} $$\n",
    "\n",
    "Therefore, \n",
    "\n",
    "$$ n = \\frac{\\log({4000000 \\times \\sqrt{5}})}{\\log{\\phi}} $$\n",
    "</ol>\n",
    "\n",
    "This yields $n \\approx 33.26$ which implies that we should consider all the even terms below 34.\n",
    "\n",
    "<br>\n",
    "There is another interesting observation in the series, viewed as below:\n",
    "\n",
    "1, 1, <font color='red'>2</font>, 3, 5, <font color='red'>8</font>, 13, 21, <font color='red'>34</font>\n",
    "\n",
    "After every two odd terms, there appears an even term which is the sum of last two odd terms. Therefore, the sum S of the Fibonacci sequence after $3 \\times t$ terms will have S/2 coming from the odd terms and the rest S/2 coming from the even terms. We need to look at the sum for the first 33 terms. Therefore, if we compute the total sum S, the answer we are looking for is S/2.\n",
    "\n",
    "<br>\n",
    "\n",
    "To compute S, let's employ the following technique:\n",
    "\n",
    "$$ F_{n} = F_{n+2} - F_{n+1} $$\n",
    "$$ F_{n-1} = F_{n+1} - F_{n} $$\n",
    "$$ . $$\n",
    "$$ . $$\n",
    "$$ . $$\n",
    "$$ F_{1} = F_{3} - F_{2} $$\n",
    "_______________________________\n",
    "\n",
    "$$ S = F_{n+2} - F_{2} $$\n",
    "\n",
    "<br>\n",
    "\n",
    "Required $F_{n+2} = F_{35} = \\frac{(1+\\sqrt{5})^{35} - (1-\\sqrt{5})^{35}}{2^{35} \\times \\sqrt{5}}$ "
   ]
  },
  {
   "cell_type": "code",
   "execution_count": 3,
   "metadata": {},
   "outputs": [],
   "source": [
    "import math\n",
    "\n",
    "def find_term_n(n):\n",
    "    phi = (1+math.sqrt(5))/2\n",
    "    num = phi**n - (-phi)**(-n)\n",
    "    term_n = num/math.sqrt(5)\n",
    "    return term_n"
   ]
  },
  {
   "cell_type": "code",
   "execution_count": 4,
   "metadata": {},
   "outputs": [
    {
     "name": "stdout",
     "output_type": "stream",
     "text": [
      "4613732.000000006\n"
     ]
    }
   ],
   "source": [
    "S = (find_term_n(35)-1)/2\n",
    "print(S)"
   ]
  },
  {
   "cell_type": "markdown",
   "metadata": {},
   "source": [
    "Therefore, the answer obtained matches with that of the brute force method."
   ]
  },
  {
   "cell_type": "markdown",
   "metadata": {},
   "source": [
    "### Time Complexity\n",
    "\n",
    "Although the approach above may look like having constant time complexity, the time complexity is O(log n) where n is the number of terms in sequence required. This is because the log and the power functions take logarithmic time for computation."
   ]
  },
  {
   "cell_type": "markdown",
   "metadata": {},
   "source": [
    "#### References:\n",
    "<ol>\n",
    "    <li>http://mathworld.wolfram.com/BinetsFibonacciNumberFormula.html\n",
    "    <li>https://www.quora.com/What-is-the-sum-of-n-terms-of-a-Fibonacci-series\n",
    "    <li>http://jwilson.coe.uga.edu/EMAT6680/Simmons/DFibonnaci6890.html\n",
    "</ol>\n",
    "\n",
    "#### Interesting reads:\n",
    "<ol>\n",
    "    <li>https://io9.gizmodo.com/5985588/15-uncanny-examples-of-the-golden-ratio-in-nature\n",
    "    <li>https://www.youtube.com/watch?v=keLN89CWZ-A\n",
    "</ol>"
   ]
  }
 ],
 "metadata": {
  "kernelspec": {
   "display_name": "Python 3",
   "language": "python",
   "name": "python3"
  },
  "language_info": {
   "codemirror_mode": {
    "name": "ipython",
    "version": 3
   },
   "file_extension": ".py",
   "mimetype": "text/x-python",
   "name": "python",
   "nbconvert_exporter": "python",
   "pygments_lexer": "ipython3",
   "version": "3.6.7"
  }
 },
 "nbformat": 4,
 "nbformat_minor": 2
}
