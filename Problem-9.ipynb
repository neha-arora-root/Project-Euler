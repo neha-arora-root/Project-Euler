{
 "cells": [
  {
   "cell_type": "markdown",
   "metadata": {},
   "source": [
    "## Problem-9\n",
    "Find the Pythagorean triplet (a, b, c) such that $a^2 + b^2 = c^2$ and $a + b + c = 1000$. Report the product $abc$."
   ]
  },
  {
   "cell_type": "code",
   "execution_count": 1,
   "metadata": {},
   "outputs": [],
   "source": [
    "import time\n",
    "import math"
   ]
  },
  {
   "cell_type": "markdown",
   "metadata": {},
   "source": [
    "## Brute Force\n",
    "\n",
    "This feels like a simple problem where the triplet $(a, b, c)$ should satisfy two conditions:\n",
    "* $a^2 + b^2 = c^2$, and\n",
    "* $a + b + c = 1000$"
   ]
  },
  {
   "cell_type": "code",
   "execution_count": 2,
   "metadata": {},
   "outputs": [
    {
     "name": "stdout",
     "output_type": "stream",
     "text": [
      "True\n",
      "False\n"
     ]
    }
   ],
   "source": [
    "def is_pythagorean_triplet(a, b, c):\n",
    "    return a**2 + b**2 == c**2\n",
    "\n",
    "# test method\n",
    "print(is_pythagorean_triplet(3,4,5))\n",
    "print(is_pythagorean_triplet(4,5,6))"
   ]
  },
  {
   "cell_type": "code",
   "execution_count": 3,
   "metadata": {},
   "outputs": [
    {
     "name": "stdout",
     "output_type": "stream",
     "text": [
      "Triplet: (200, 375, 425)\n",
      "Count: 199176\n",
      "Required product of pythogorean triplet: 31875000\n",
      "Time taken: 0.201677 sec\n"
     ]
    }
   ],
   "source": [
    "def compute_pythgorean_triplet_for_given_sum(sum, print_results=False):\n",
    "    condition_count = 0\n",
    "    for a in range(1, sum):\n",
    "        for b in range(1, sum):\n",
    "            condition_count = condition_count + 1\n",
    "            if is_pythagorean_triplet(a, b, 1000-a-b):\n",
    "                if print_results:\n",
    "                    result = (a, b, 1000-a-b)\n",
    "                    print(\"Triplet: %s\" % (result,))\n",
    "                    print(\"Count: %d\" % condition_count)\n",
    "                return a * b * (1000-a-b)\n",
    "            \n",
    "start = time.time()\n",
    "num = 1000\n",
    "result = compute_pythgorean_triplet_for_given_sum(num, print_results=True)\n",
    "end = time.time()\n",
    "print(\"Required product of pythogorean triplet: %s\" % result)\n",
    "print(\"Time taken: %f sec\" % (end - start))"
   ]
  },
  {
   "cell_type": "markdown",
   "metadata": {},
   "source": [
    "## Discussion\n",
    "\n",
    "For the specific case above ($sum = 1000$), maximum loop count would be $1000 \\times 1000 = 1000000$, actual count is $31875000$ and as ratio, it is approximately $0.199$ or $0.2$ and the compute time is within 180 ms.\n",
    "\n",
    "## Improvements:\n",
    "\n",
    "### Improvement I:\n",
    "\n",
    "* **Triangular Inequality**: $a + b > c$\n",
    "* Combining with the condition $a + b + c = 1000$, we have: $c < 500$ and $a + b > 500$.\n",
    "* Also, $c > a$ and $c > b$ which makes both of $a$ and $b$ individually less than $500$ too.\n",
    "* We note that $a$ cannot be equal to $b$ since if $a = b$, it will imply that $c^2 = 2a^2$, which further implies that $c = a \\sqrt{2}$, thus rendering c an irrational number.\n",
    "* Assuming, without loss of generality, that $a < b$, we can limit search for $a$ on the lower side of $\\frac{c}{\\sqrt{2}}$ and for $b$ on the upper side of $\\frac{c}{\\sqrt{2}}$. The next closest integer for $\\frac{c}{\\sqrt{2}}$ is 354, assuming $c = 500$.\n",
    "* If we check the following range for $b$: $[354, 500)$, the corresponding range for $a$ is: (1, 354]."
   ]
  },
  {
   "cell_type": "code",
   "execution_count": 4,
   "metadata": {},
   "outputs": [
    {
     "name": "stdout",
     "output_type": "stream",
     "text": [
      "Triplet: (200, 375, 425)\n",
      "Count: 29276\n",
      "Required product of pythogorean triplet: 31875000\n",
      "Time taken: 0.029637 sec\n"
     ]
    }
   ],
   "source": [
    "def compute_pythgorean_triplet_for_given_sum_improved_1(sum, print_results=False):\n",
    "    condition_count = 0\n",
    "    max_c = int(sum/2)\n",
    "    b_end = max_c\n",
    "    b_start = int(max_c/math.sqrt(2))\n",
    "    a_end = b_start\n",
    "    a_start = 1\n",
    "    for a in range(a_start, a_end):\n",
    "        for b in range(b_start, b_end):\n",
    "            condition_count = condition_count + 1\n",
    "            if is_pythagorean_triplet(a, b, 1000-a-b):\n",
    "                if print_results:\n",
    "                    result = (a, b, 1000-a-b)\n",
    "                    print(\"Triplet: %s\" % (result,))\n",
    "                    print(\"Count: %d\" % condition_count)\n",
    "                return a * b * (1000-a-b)\n",
    "            \n",
    "start = time.time()\n",
    "num = 1000\n",
    "result = compute_pythgorean_triplet_for_given_sum_improved_1(num, print_results=True)\n",
    "end = time.time()\n",
    "print(\"Required product of pythogorean triplet: %s\" % result)\n",
    "print(\"Time taken: %f sec\" % (end - start))"
   ]
  },
  {
   "cell_type": "markdown",
   "metadata": {},
   "source": [
    "## Discussion\n",
    "\n",
    "Therefore, here the actual compute as a ratio is close to 0.029 which is approximately a tenth of the above method and the compute time is within 33 ms which shows an improvement by a factor of 6 approximately. But there can be further improvements.\n",
    "\n",
    "### Improvement II:\n",
    "\n",
    "* Leveraging Euclid's method of computing Pythagorean triplets [Wiki] (https://en.wikipedia.org/wiki/Pythagorean_triple#Generating_a_triple), we have: $a = k(m^2-n^2)$, $b = 2kmn$, $c = k(m^2 + n^2)$.\n",
    "\n",
    "* Using the condition $a + b + c = sum$, we have: $2k(m^2 + mn) = 2km(m+n) = sum$, which implies there are 3 factors of $\\frac{sum}{2}$: $k$, $m$, $m+n$.\n",
    "\n",
    "* Given that $k$, $m$ and $m+n$ are factors of $\\frac{sum}{2}$, we can say that $m(m+n) \\le \\frac{sum}{2}$ and thus $m^2 < \\frac{sum}{2}$, and thus:\n",
    "$$m < \\sqrt{\\frac{sum}{2}}$$\n",
    "\n",
    "* For the given case here, we have $m < 22.36$ and so we need to check for values of $m$ in range $(1, 23)$.\n",
    "\n",
    "* Similarly, working for $m+n$, from the Euclid's triplets, we had assumed that $m$ is greater than $n$, and thus we can say that $m < m+n < 2m$. Also, we have another bound on $m+n$ through the same equation as above: $km(m+n) = \\frac{sum}{2}$, which further implies: $m+n < \\frac{sum}{2m}$.\n",
    "\n",
    "* Since k is the divisor and $m$ and $m+n$ are primes, GCD(m, m+n) = 1.\n",
    "\n",
    "* Therefore, we can finally put all these together to obtain a solution."
   ]
  },
  {
   "cell_type": "code",
   "execution_count": 5,
   "metadata": {},
   "outputs": [
    {
     "name": "stdout",
     "output_type": "stream",
     "text": [
      "4\n",
      "7\n"
     ]
    }
   ],
   "source": [
    "def GCD(a, b):\n",
    "    if b > a:\n",
    "        return GCD(b, a)\n",
    "    while a % b != 0:\n",
    "        temp = a % b\n",
    "        a = b\n",
    "        b = temp % a\n",
    "    return b\n",
    "\n",
    "print(GCD(4,8))\n",
    "print(GCD(35,49))"
   ]
  },
  {
   "cell_type": "code",
   "execution_count": 6,
   "metadata": {},
   "outputs": [
    {
     "name": "stdout",
     "output_type": "stream",
     "text": [
      "Triplet: (375, 200, 425)\n",
      "Count: 3\n",
      "Required product of pythogorean triplet: 31875000.0\n",
      "Time taken: 0.000198 sec\n"
     ]
    }
   ],
   "source": [
    "# let factor1 be m and thus factor1_max is sqrt(sum/2).\n",
    "# let factor2 be m+n.\n",
    "def compute_pythgorean_triplet_for_given_sum_improved_2(s, print_results=False):\n",
    "    condition_count = 0\n",
    "    factor1_max = math.ceil(math.sqrt(s/2))\n",
    "    for factor1 in range(2, factor1_max):\n",
    "        # if factor1 is a divisor for sum/2, then try to find factor2.\n",
    "        if s/2 % factor1 == 0:\n",
    "            # if factor1 is even, then factor 2 is odd.\n",
    "            # else factor is odd.\n",
    "            if factor1 % 2 == 0:\n",
    "                factor2 = factor1 + 1\n",
    "            else:\n",
    "                factor2 = factor1 + 2\n",
    "            while factor2 < 2*factor1 and factor2 <= s/(2*factor1):\n",
    "                condition_count = condition_count+1\n",
    "                if s/(2*factor1) % (factor2) == 0 and GCD(factor1, factor2) == 1:\n",
    "                    k = s/(2*factor1*factor2)\n",
    "                    m = factor1\n",
    "                    n = factor2 - factor1\n",
    "                    a = k * (m**2 - n**2)\n",
    "                    b = 2 * k * m * n\n",
    "                    c = k * (m**2 + n**2)\n",
    "                    result = (int(a),int(b),int(c))\n",
    "                    print (\"Triplet: %s\" % (result,))\n",
    "                    print(\"Count: %d\" % condition_count)\n",
    "                    return a * b * (1000-a-b)\n",
    "                factor2 = factor2 + 2\n",
    "        else:\n",
    "            condition_count = condition_count + 1\n",
    "    \n",
    "    \n",
    "start = time.time()\n",
    "num = 1000\n",
    "result = compute_pythgorean_triplet_for_given_sum_improved_2(num, print_results=True)\n",
    "end = time.time()\n",
    "print(\"Required product of pythogorean triplet: %s\" % result)\n",
    "print(\"Time taken: %f sec\" % (end - start))"
   ]
  },
  {
   "cell_type": "markdown",
   "metadata": {},
   "source": [
    "## Discussion\n",
    "\n",
    "Therefore, here the actual compute as a ratio is close to 9.4e-8 which is way better than the previous improved method and the compute time is within 0.3 ms which shows an improvement by a factor of 100 approximately!!"
   ]
  }
 ],
 "metadata": {
  "kernelspec": {
   "display_name": "Python 3",
   "language": "python",
   "name": "python3"
  },
  "language_info": {
   "codemirror_mode": {
    "name": "ipython",
    "version": 3
   },
   "file_extension": ".py",
   "mimetype": "text/x-python",
   "name": "python",
   "nbconvert_exporter": "python",
   "pygments_lexer": "ipython3",
   "version": "3.6.5"
  }
 },
 "nbformat": 4,
 "nbformat_minor": 2
}
