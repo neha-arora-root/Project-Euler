{
 "cells": [
  {
   "cell_type": "markdown",
   "metadata": {},
   "source": [
    "## Problem-1: Multiples of 3 and 5"
   ]
  },
  {
   "cell_type": "code",
   "execution_count": 1,
   "metadata": {
    "collapsed": true
   },
   "outputs": [],
   "source": [
    "start = 1\n",
    "end = 1000"
   ]
  },
  {
   "cell_type": "markdown",
   "metadata": {},
   "source": [
    "##### Brute-Force: Check each number and if it is multiple of 3 or 5, then count it in the sum"
   ]
  },
  {
   "cell_type": "code",
   "execution_count": 2,
   "metadata": {
    "collapsed": true
   },
   "outputs": [],
   "source": [
    "def checkMultiple(val, num):\n",
    "    if val%num == 0:\n",
    "        return True\n",
    "    return False"
   ]
  },
  {
   "cell_type": "code",
   "execution_count": 3,
   "metadata": {},
   "outputs": [
    {
     "name": "stdout",
     "output_type": "stream",
     "text": [
      "233168\n"
     ]
    }
   ],
   "source": [
    "sumOfMultiples = 0\n",
    "for val in range(start, end):\n",
    "    if checkMultiple(val, 3) or checkMultiple(val, 5):\n",
    "        sumOfMultiples = sumOfMultiples + val\n",
    "        \n",
    "print (sumOfMultiples)"
   ]
  },
  {
   "cell_type": "markdown",
   "metadata": {},
   "source": [
    "### Time complexity  \n",
    "\n",
    "Checking if the current value is a multiple of 3 or a multiple of 5 is a O(1) operation and we repeat this operation for the range of numbers in which to find the multiples. Therefore, this method has linear time complexity, i.e., O(n) where n is the length of numbers in the range(start, end)"
   ]
  },
  {
   "cell_type": "markdown",
   "metadata": {},
   "source": [
    "#### Method 2: Find the occurrences of multiples of 3 and 5 and remove the common occurrences  \n",
    "\n",
    "Let x be the sum of multiples of 3 in [start, end]  \n",
    "Let y be the sum of multiples of 5 in [start, end]  \n",
    "In this case, the numbers that are multiple of both 3 and 5 get counted twice and should be removed.  \n",
    "Let z be the sum of multiples of 15 in [start, end]  \n",
    "Therefore, required sumOfMultiples = x+y-z  \n",
    "All three x, y and z can be computed as sum of arithmetic series terms in range [start, end]"
   ]
  },
  {
   "cell_type": "code",
   "execution_count": 4,
   "metadata": {
    "collapsed": true
   },
   "outputs": [],
   "source": [
    "def findSumOfArithmeticSeries (start, end, diff):\n",
    "    numTerms = (end-start+1)//diff\n",
    "    firstTerm = start+diff - start%diff\n",
    "    sumTerms = numTerms * (2 * firstTerm + (numTerms-1) * diff)/2\n",
    "    return(sumTerms)"
   ]
  },
  {
   "cell_type": "code",
   "execution_count": 5,
   "metadata": {},
   "outputs": [
    {
     "name": "stdout",
     "output_type": "stream",
     "text": [
      "233168\n"
     ]
    }
   ],
   "source": [
    "x = findSumOfArithmeticSeries (start, end-1, 3)\n",
    "y =  findSumOfArithmeticSeries (start, end-1, 5)\n",
    "z = findSumOfArithmeticSeries (start, end-1, 15)\n",
    "sumOfMultiples = x+y-z\n",
    "print (sumOfMultiples)"
   ]
  },
  {
   "cell_type": "markdown",
   "metadata": {},
   "source": [
    "### Time complexity  \n",
    "\n",
    "Finding the values of x, y and z are constant time operations and hence the time complexity for this method is O(1)"
   ]
  }
 ],
 "metadata": {
  "kernelspec": {
   "display_name": "Python 3",
   "language": "python",
   "name": "python3"
  },
  "language_info": {
   "codemirror_mode": {
    "name": "ipython",
    "version": 3
   },
   "file_extension": ".py",
   "mimetype": "text/x-python",
   "name": "python",
   "nbconvert_exporter": "python",
   "pygments_lexer": "ipython3",
   "version": "3.6.4"
  }
 },
 "nbformat": 4,
 "nbformat_minor": 2
}
