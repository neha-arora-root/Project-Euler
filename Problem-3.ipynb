{
 "cells": [
  {
   "cell_type": "markdown",
   "metadata": {},
   "source": [
    "### Problem-3: Largest prime factor"
   ]
  },
  {
   "cell_type": "code",
   "execution_count": 1,
   "metadata": {},
   "outputs": [],
   "source": [
    "import time\n",
    "num = 600851475143\n",
    "#num = 1000000002"
   ]
  },
  {
   "cell_type": "markdown",
   "metadata": {},
   "source": [
    "### Brute Force Method\n",
    "\n",
    "Check all the numbers up to num/2 that are divisor of num as well as prime and report the largest number."
   ]
  },
  {
   "cell_type": "code",
   "execution_count": 2,
   "metadata": {},
   "outputs": [],
   "source": [
    "def check_prime(n):\n",
    "    if n <= 1:\n",
    "        return False\n",
    "    if n == 2:\n",
    "        return True\n",
    "    if n & 1 == 0:\n",
    "        return False\n",
    "    i = 3\n",
    "    while (i*i <= n):\n",
    "        if n%i == 0:\n",
    "            return False\n",
    "        i += 2\n",
    "    return True"
   ]
  },
  {
   "cell_type": "code",
   "execution_count": 3,
   "metadata": {},
   "outputs": [],
   "source": [
    "start = time.time()\n",
    "res = 0\n",
    "div = int(num/2)\n",
    "if div&1 == 0:\n",
    "    div -= 1\n",
    "\n",
    "while div > 0:\n",
    "    if (num % div == 0) and check_prime(div):\n",
    "        res = div\n",
    "        break\n",
    "    div -= 2\n",
    "\n",
    "end = time.time()"
   ]
  },
  {
   "cell_type": "code",
   "execution_count": 4,
   "metadata": {},
   "outputs": [
    {
     "name": "stdout",
     "output_type": "stream",
     "text": [
      "6857\n",
      "Time taken = 99410.51523375511 seconds\n"
     ]
    }
   ],
   "source": [
    "print(res)\n",
    "t = end - start\n",
    "print (\"Time taken = \" + str(t) + \" seconds\")"
   ]
  },
  {
   "cell_type": "markdown",
   "metadata": {},
   "source": [
    "### Method 2: Mathematical approach\n",
    "\n",
    "To find the largest prime factor of a number, we can linearly iterate all the odd numbers after 2 till the number and check if the number is a divisor. All the primes will be encountered before the multiples of primes that divide the nubmer. To avoid getting multiples in the answer, we can divide the number by the prime we find as the multiple of number. This ensures that we get the largest prime divisor of number in linear time."
   ]
  },
  {
   "cell_type": "code",
   "execution_count": 5,
   "metadata": {},
   "outputs": [
    {
     "name": "stdout",
     "output_type": "stream",
     "text": [
      "6857\n",
      "Time taken = 0.0007672309875488281 seconds\n"
     ]
    }
   ],
   "source": [
    "startTime = time.time()\n",
    "res = 1\n",
    "\n",
    "if num%2 == 0:\n",
    "    num /= 2\n",
    "    res = 2\n",
    "\n",
    "div = 3\n",
    "while num > 1:\n",
    "    if num%div == 0:\n",
    "        res = div\n",
    "        num /= div\n",
    "    else:\n",
    "        div += 2\n",
    "        \n",
    "endTime = time.time()\n",
    "print(res)\n",
    "t = endTime - startTime\n",
    "print (\"Time taken = \" + str(t) + \" seconds\")"
   ]
  },
  {
   "cell_type": "markdown",
   "metadata": {},
   "source": [
    "### Time Complexity\n",
    "\n",
    "As explained above, the solution is obtained in linear time, i.e. O(n)."
   ]
  }
 ],
 "metadata": {
  "kernelspec": {
   "display_name": "Python 3",
   "language": "python",
   "name": "python3"
  },
  "language_info": {
   "codemirror_mode": {
    "name": "ipython",
    "version": 3
   },
   "file_extension": ".py",
   "mimetype": "text/x-python",
   "name": "python",
   "nbconvert_exporter": "python",
   "pygments_lexer": "ipython3",
   "version": "3.6.5"
  }
 },
 "nbformat": 4,
 "nbformat_minor": 2
}
