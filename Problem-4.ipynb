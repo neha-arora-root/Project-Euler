{
 "cells": [
  {
   "cell_type": "markdown",
   "metadata": {},
   "source": [
    "### Problem-4: Largest palindrome product"
   ]
  },
  {
   "cell_type": "code",
   "execution_count": 1,
   "metadata": {},
   "outputs": [],
   "source": [
    "import time\n",
    "\n",
    "upperEnd = 1000\n",
    "lowerEnd = 100"
   ]
  },
  {
   "cell_type": "code",
   "execution_count": 2,
   "metadata": {},
   "outputs": [],
   "source": [
    "def is_palindrome(num):\n",
    "    test = str(num)\n",
    "    sz = len(test)\n",
    "    check_len = int(sz/2)\n",
    "    for i in range(0, check_len):\n",
    "        if test[i] != test[sz-i-1]:\n",
    "            return False\n",
    "    return True"
   ]
  },
  {
   "cell_type": "markdown",
   "metadata": {},
   "source": [
    "#### Method 1: Brute Force\n",
    "\n",
    "To check product of two three digit numbers that forms a palindrome and is the largest among all candidates, it is better to start from the upperEnd and go till the lower end."
   ]
  },
  {
   "cell_type": "code",
   "execution_count": 4,
   "metadata": {},
   "outputs": [
    {
     "name": "stdout",
     "output_type": "stream",
     "text": [
      "Palindrome = 906609\n",
      "Number 1 = 993\n",
      "Number 2 = 913\n",
      "Time taken = 0.1661210060119629 seconds\n"
     ]
    }
   ],
   "source": [
    "start = time.time()\n",
    "\n",
    "num1 = 0\n",
    "num2 = 0\n",
    "palindrome = 0\n",
    "\n",
    "for x in reversed(range(lowerEnd, upperEnd)):\n",
    "    for y in reversed(range(lowerEnd, upperEnd)):\n",
    "        if (num1 > x and num2 > y):\n",
    "            continue\n",
    "        prod = x * y\n",
    "        if is_palindrome(prod):\n",
    "            if prod > palindrome:\n",
    "                palindrome = prod\n",
    "                num1 = x\n",
    "                num2 = y\n",
    "                \n",
    "end = time.time()\n",
    "\n",
    "totalTime = end-start\n",
    "print (\"Palindrome = \" + str(palindrome))\n",
    "print (\"Number 1 = \" + str(num1))\n",
    "print (\"Number 2 = \" + str(num2))\n",
    "print (\"Time taken = \" + str(totalTime) + \" seconds\")\n"
   ]
  },
  {
   "cell_type": "code",
   "execution_count": null,
   "metadata": {},
   "outputs": [],
   "source": []
  }
 ],
 "metadata": {
  "kernelspec": {
   "display_name": "Python 3",
   "language": "python",
   "name": "python3"
  },
  "language_info": {
   "codemirror_mode": {
    "name": "ipython",
    "version": 3
   },
   "file_extension": ".py",
   "mimetype": "text/x-python",
   "name": "python",
   "nbconvert_exporter": "python",
   "pygments_lexer": "ipython3",
   "version": "3.6.4"
  }
 },
 "nbformat": 4,
 "nbformat_minor": 2
}
