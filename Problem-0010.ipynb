{
 "cells": [
  {
   "cell_type": "markdown",
   "metadata": {},
   "source": [
    "## Problem-10\n",
    "\n",
    "The sum of the primes below $10$ is $2 + 3 + 5 + 7 = 17$.\n",
    "\n",
    "Find the sum of all the primes below two million."
   ]
  },
  {
   "cell_type": "code",
   "execution_count": 1,
   "metadata": {},
   "outputs": [],
   "source": [
    "import math\n",
    "import time"
   ]
  },
  {
   "cell_type": "code",
   "execution_count": 2,
   "metadata": {},
   "outputs": [],
   "source": [
    "def is_prime(num):\n",
    "    if num <= 1:\n",
    "        return False\n",
    "    if num <= 3:\n",
    "        return True\n",
    "    for x in range(2, math.ceil(math.sqrt(num))+1):\n",
    "        if num % x == 0:\n",
    "            return False\n",
    "    return True"
   ]
  },
  {
   "cell_type": "code",
   "execution_count": 3,
   "metadata": {},
   "outputs": [
    {
     "name": "stdout",
     "output_type": "stream",
     "text": [
      "Checking primality of 7:  True\n",
      "Checking primality of 27:  False\n"
     ]
    }
   ],
   "source": [
    "## test method is_prime\n",
    "print(\"Checking primality of 7: \", is_prime(7))\n",
    "print(\"Checking primality of 27: \", is_prime(27))"
   ]
  },
  {
   "cell_type": "code",
   "execution_count": 4,
   "metadata": {},
   "outputs": [],
   "source": [
    "def find_sum_of_primes_upto_num_1(num):\n",
    "    sum_of_primes = 0\n",
    "    for n in range(1, num+1):\n",
    "        if is_prime(n):\n",
    "            sum_of_primes = sum_of_primes + n\n",
    "    return sum_of_primes"
   ]
  },
  {
   "cell_type": "code",
   "execution_count": 5,
   "metadata": {},
   "outputs": [],
   "source": [
    "test_num = 2000000"
   ]
  },
  {
   "cell_type": "code",
   "execution_count": 6,
   "metadata": {},
   "outputs": [
    {
     "name": "stdout",
     "output_type": "stream",
     "text": [
      "Sum of primes obtained:  142913828922\n",
      "Time taken by checking primality of each number is 11.250758 sec\n"
     ]
    }
   ],
   "source": [
    "start1 = time.time()\n",
    "sum_1 = find_sum_of_primes_upto_num_1(test_num)\n",
    "end1 = time.time()\n",
    "print(\"Sum of primes obtained: \", sum_1)\n",
    "print(\"Time taken by checking primality of each number is %f sec\" % (end1 - start1))"
   ]
  },
  {
   "cell_type": "markdown",
   "metadata": {},
   "source": [
    "## Improvement: Use Sieve of Eratosthenes\n",
    "\n",
    "1. Initilize an array of size 2,000,000 with value of all 1's.\n",
    "2. We know that 0 and 1 are not prime, so we mark them as 0: indicating not prime, rest all are 1: indicating prime for now.  \n",
    "3. We start with 2 and identify that it is a prime, so all its multiples must be non-prime, hence we let the position 2 in array marked as 1: indicating 2 is prime and modify all positions that are multiples of 2 as 0: indicating they are all non-prime.\n",
    "4. Next we iterate the array to find the next prime, we find it at position 3 and repeat the same process. In this case, we mark all multiples of 3 as non-prime.  \n",
    "5. Repeating this process for all the primes obtained lets us find the primality of all numbers upto 2,000,000 without doing repetitive primality checks as above.  \n",
    "6. This is still a costly process and once we build this, we will see further improvement to make it of linear order in terms of the input number.\n",
    "\n",
    "Note: We need to mark multiples as non-primes only upto square root of 2,000,000. It is left up to the reader to figure this out."
   ]
  },
  {
   "cell_type": "code",
   "execution_count": 7,
   "metadata": {},
   "outputs": [
    {
     "name": "stdout",
     "output_type": "stream",
     "text": [
      "[0, 1, 1, 0, 1, 0, 1, 0, 0, 0, 1, 0, 1, 0, 0]\n"
     ]
    }
   ],
   "source": [
    "def build_sieve_eratosthenes(num):\n",
    "    ## Creates sieve of size (num+1) to correct for 0-indexing.\n",
    "    primes_sieve = [1] * (num+1)\n",
    "    primes_sieve[0] = primes_sieve[1] = 0\n",
    "    for p in range(2, num):\n",
    "        if primes_sieve[p] == 1:\n",
    "            for mul in range(2*p, num+1, p):\n",
    "                primes_sieve[mul] = 0\n",
    "    return primes_sieve\n",
    "\n",
    "# test build_sieve_eratosthenes\n",
    "print(build_sieve_eratosthenes(15)[1:])"
   ]
  },
  {
   "cell_type": "code",
   "execution_count": 8,
   "metadata": {},
   "outputs": [],
   "source": [
    "def find_sum_of_primes_upto_num_with_sieve(sieve, num):\n",
    "    primes_sieve = sieve(num)\n",
    "    primes_sum = 0\n",
    "    for n in range(len(primes_sieve)):\n",
    "        if primes_sieve[n] == 1:\n",
    "            primes_sum = primes_sum + n\n",
    "    return primes_sum"
   ]
  },
  {
   "cell_type": "code",
   "execution_count": 9,
   "metadata": {},
   "outputs": [
    {
     "name": "stdout",
     "output_type": "stream",
     "text": [
      "Sum of primes obtained:  142913828922\n",
      "Time taken by building Eratosthenes Sieve is 0.747103 sec\n"
     ]
    }
   ],
   "source": [
    "start2 = time.time()\n",
    "sum_2 = find_sum_of_primes_upto_num_with_sieve(build_sieve_eratosthenes, test_num)\n",
    "end2 = time.time()\n",
    "print(\"Sum of primes obtained: \", sum_2)\n",
    "print(\"Time taken by building Eratosthenes Sieve is %f sec\" % (end2 - start2))"
   ]
  },
  {
   "cell_type": "markdown",
   "metadata": {},
   "source": [
    "## Analysis\n",
    "\n",
    "We notice that upto N, there are at most N/2 numbers marked not prime with respect to prime 2, N/3 numbers marked not prime with respect to 3, N/5 numbers marked not prime with respect to prime 5 and so on for all the primes.\n",
    "\n",
    "Therefore, the time complexity becomes: \n",
    "$$\\frac{N}{2} + \\frac{N}{3} + \\frac{N}{5} + \\frac{N}{7} + ... = N \\big(\\frac{1}{2} + \\frac{1}{3} + \\frac{1}{5} + \\frac{1}{7} + ... \\big)$$\n",
    "\n",
    "It is known that for harmonic prime series [source](http://mathworld.wolfram.com/HarmonicSeriesofPrimes.html), the sum diverges and is of the order $O(log log N)$.\n",
    "\n",
    "Therefore, the time complexity for above algorithm is $O(N log log N)$."
   ]
  }
 ],
 "metadata": {
  "kernelspec": {
   "display_name": "Python 3",
   "language": "python",
   "name": "python3"
  },
  "language_info": {
   "codemirror_mode": {
    "name": "ipython",
    "version": 3
   },
   "file_extension": ".py",
   "mimetype": "text/x-python",
   "name": "python",
   "nbconvert_exporter": "python",
   "pygments_lexer": "ipython3",
   "version": "3.6.10"
  }
 },
 "nbformat": 4,
 "nbformat_minor": 4
}
