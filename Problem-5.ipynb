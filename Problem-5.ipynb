{
 "cells": [
  {
   "cell_type": "markdown",
   "metadata": {},
   "source": [
    "### Problem-5: Smallest multiple"
   ]
  },
  {
   "cell_type": "code",
   "execution_count": 1,
   "metadata": {},
   "outputs": [],
   "source": [
    "import time\n",
    "start = 1\n",
    "end = 20"
   ]
  },
  {
   "cell_type": "markdown",
   "metadata": {},
   "source": [
    "The problem involves finding the least common multiple for the given set of numbers. For two given numbers, num1 and num2, if we know the greatest common divisor for both (GCD) and the least common multiple for both (LCM), then the following can be used:\n",
    "\n",
    "$$num1 \\times num2 = GCD \\times LCM$$"
   ]
  },
  {
   "cell_type": "code",
   "execution_count": 2,
   "metadata": {},
   "outputs": [],
   "source": [
    "def gcd(num1, num2):\n",
    "    if num1 == num2:\n",
    "        return num1\n",
    "    if num1 == 0:\n",
    "        return num2\n",
    "    if num2 == 0:\n",
    "        return num1\n",
    "    if num1 > num2:\n",
    "        return gcd(num1%num2, num2)\n",
    "    return gcd(num1, num2%num1)\n",
    "\n",
    "def lcm(num1, num2, verbose=False):\n",
    "    GCD = gcd(num1, num2)\n",
    "    LCM = int((num1*num2)/GCD)\n",
    "    if verbose:\n",
    "        print (\"num1 = \"+str(num1)+\", num2 = \"+str(num2))\n",
    "        print (\"GCD = \" + str(GCD)+\", LCM = \"+str(LCM))\n",
    "    return LCM"
   ]
  },
  {
   "cell_type": "code",
   "execution_count": 3,
   "metadata": {},
   "outputs": [
    {
     "name": "stdout",
     "output_type": "stream",
     "text": [
      "Smallest multiple = 232792560\n",
      "Time taken = 0.00010538101196289062 seconds\n"
     ]
    }
   ],
   "source": [
    "startTime = time.time()\n",
    "res = 1\n",
    "\n",
    "for num in range(start, end+1):\n",
    "    res = lcm(res, num)\n",
    "    #print (\"Result = \"+str(res))\n",
    "    \n",
    "endTime = time.time()\n",
    "\n",
    "timeTaken = endTime - startTime\n",
    "print (\"Smallest multiple = \" + str(res))\n",
    "print (\"Time taken = \" + str(timeTaken) + \" seconds\")"
   ]
  },
  {
   "cell_type": "code",
   "execution_count": 4,
   "metadata": {},
   "outputs": [
    {
     "name": "stdout",
     "output_type": "stream",
     "text": [
      "num1 = 232792560, num2 = 1\n",
      "GCD = 1, LCM = 232792560\n",
      "Result = 232792560\n",
      "\n",
      "num1 = 232792560, num2 = 2\n",
      "GCD = 2, LCM = 232792560\n",
      "Result = 232792560\n",
      "\n",
      "num1 = 232792560, num2 = 3\n",
      "GCD = 3, LCM = 232792560\n",
      "Result = 232792560\n",
      "\n",
      "num1 = 232792560, num2 = 4\n",
      "GCD = 4, LCM = 232792560\n",
      "Result = 232792560\n",
      "\n",
      "num1 = 232792560, num2 = 5\n",
      "GCD = 5, LCM = 232792560\n",
      "Result = 232792560\n",
      "\n",
      "num1 = 232792560, num2 = 6\n",
      "GCD = 6, LCM = 232792560\n",
      "Result = 232792560\n",
      "\n",
      "num1 = 232792560, num2 = 7\n",
      "GCD = 7, LCM = 232792560\n",
      "Result = 232792560\n",
      "\n",
      "num1 = 232792560, num2 = 8\n",
      "GCD = 8, LCM = 232792560\n",
      "Result = 232792560\n",
      "\n",
      "num1 = 232792560, num2 = 9\n",
      "GCD = 9, LCM = 232792560\n",
      "Result = 232792560\n",
      "\n",
      "num1 = 232792560, num2 = 10\n",
      "GCD = 10, LCM = 232792560\n",
      "Result = 232792560\n",
      "\n",
      "num1 = 232792560, num2 = 11\n",
      "GCD = 11, LCM = 232792560\n",
      "Result = 232792560\n",
      "\n",
      "num1 = 232792560, num2 = 12\n",
      "GCD = 12, LCM = 232792560\n",
      "Result = 232792560\n",
      "\n",
      "num1 = 232792560, num2 = 13\n",
      "GCD = 13, LCM = 232792560\n",
      "Result = 232792560\n",
      "\n",
      "num1 = 232792560, num2 = 14\n",
      "GCD = 14, LCM = 232792560\n",
      "Result = 232792560\n",
      "\n",
      "num1 = 232792560, num2 = 15\n",
      "GCD = 15, LCM = 232792560\n",
      "Result = 232792560\n",
      "\n",
      "num1 = 232792560, num2 = 16\n",
      "GCD = 16, LCM = 232792560\n",
      "Result = 232792560\n",
      "\n",
      "num1 = 232792560, num2 = 17\n",
      "GCD = 17, LCM = 232792560\n",
      "Result = 232792560\n",
      "\n",
      "num1 = 232792560, num2 = 18\n",
      "GCD = 18, LCM = 232792560\n",
      "Result = 232792560\n",
      "\n",
      "num1 = 232792560, num2 = 19\n",
      "GCD = 19, LCM = 232792560\n",
      "Result = 232792560\n",
      "\n",
      "num1 = 232792560, num2 = 20\n",
      "GCD = 20, LCM = 232792560\n",
      "Result = 232792560\n",
      "\n"
     ]
    }
   ],
   "source": [
    "for num in range(start, end+1):\n",
    "    res = lcm(res, num, verbose=True)\n",
    "    print (\"Result = \"+str(res)+\"\\n\")"
   ]
  }
 ],
 "metadata": {
  "kernelspec": {
   "display_name": "Python 3",
   "language": "python",
   "name": "python3"
  },
  "language_info": {
   "codemirror_mode": {
    "name": "ipython",
    "version": 3
   },
   "file_extension": ".py",
   "mimetype": "text/x-python",
   "name": "python",
   "nbconvert_exporter": "python",
   "pygments_lexer": "ipython3",
   "version": "3.6.4"
  }
 },
 "nbformat": 4,
 "nbformat_minor": 2
}
