{
 "cells": [
  {
   "cell_type": "markdown",
   "metadata": {},
   "source": [
    "### Problem-5: Smallest multiple"
   ]
  },
  {
   "cell_type": "code",
   "execution_count": 1,
   "metadata": {},
   "outputs": [],
   "source": [
    "import time\n",
    "start = 1\n",
    "end = 20"
   ]
  },
  {
   "cell_type": "markdown",
   "metadata": {},
   "source": [
    "The problem involves finding the least common multiple for the given set of numbers. For two given numbers, num1 and num2, if we know the greatest common divisor for both (GCD) and the least common multiple for both (LCM), then the following can be used:\n",
    "\n",
    "$$num1 \\times num2 = GCD \\times LCM$$"
   ]
  },
  {
   "cell_type": "code",
   "execution_count": 2,
   "metadata": {},
   "outputs": [],
   "source": [
    "def gcd(num1, num2):\n",
    "    if num1 == num2:\n",
    "        return num1\n",
    "    if num1 == 0:\n",
    "        return num2\n",
    "    if num2 == 0:\n",
    "        return num1\n",
    "    if num1 > num2:\n",
    "        return gcd(num1%num2, num2)\n",
    "    return gcd(num1, num2%num1)\n",
    "\n",
    "def lcm(num1, num2, verbose=False):\n",
    "    GCD = gcd(num1, num2)\n",
    "    LCM = int((num1*num2)/GCD)\n",
    "    if verbose:\n",
    "        print (\"num1 = \"+str(num1)+\", num2 = \"+str(num2))\n",
    "        print (\"GCD = \" + str(GCD)+\", LCM = \"+str(LCM))\n",
    "    return LCM"
   ]
  },
  {
   "cell_type": "code",
   "execution_count": 3,
   "metadata": {},
   "outputs": [
    {
     "name": "stdout",
     "output_type": "stream",
     "text": [
      "Smallest multiple = 232792560\n",
      "Time taken = 0.00013709068298339844 seconds\n"
     ]
    }
   ],
   "source": [
    "startTime = time.time()\n",
    "res = 1\n",
    "\n",
    "for num in range(start, end+1):\n",
    "    res = lcm(res, num)\n",
    "    #print (\"Result = \"+str(res))\n",
    "    \n",
    "endTime = time.time()\n",
    "\n",
    "timeTaken = endTime - startTime\n",
    "print (\"Smallest multiple = \" + str(res))\n",
    "print (\"Time taken = \" + str(timeTaken) + \" seconds\")"
   ]
  },
  {
   "cell_type": "code",
   "execution_count": 4,
   "metadata": {},
   "outputs": [
    {
     "name": "stdout",
     "output_type": "stream",
     "text": [
      "num1 = 1, num2 = 1\n",
      "GCD = 1, LCM = 1\n",
      "Result = 1\n",
      "\n",
      "num1 = 1, num2 = 2\n",
      "GCD = 1, LCM = 2\n",
      "Result = 2\n",
      "\n",
      "num1 = 2, num2 = 3\n",
      "GCD = 1, LCM = 6\n",
      "Result = 6\n",
      "\n",
      "num1 = 6, num2 = 4\n",
      "GCD = 2, LCM = 12\n",
      "Result = 12\n",
      "\n",
      "num1 = 12, num2 = 5\n",
      "GCD = 1, LCM = 60\n",
      "Result = 60\n",
      "\n",
      "num1 = 60, num2 = 6\n",
      "GCD = 6, LCM = 60\n",
      "Result = 60\n",
      "\n",
      "num1 = 60, num2 = 7\n",
      "GCD = 1, LCM = 420\n",
      "Result = 420\n",
      "\n",
      "num1 = 420, num2 = 8\n",
      "GCD = 4, LCM = 840\n",
      "Result = 840\n",
      "\n",
      "num1 = 840, num2 = 9\n",
      "GCD = 3, LCM = 2520\n",
      "Result = 2520\n",
      "\n",
      "num1 = 2520, num2 = 10\n",
      "GCD = 10, LCM = 2520\n",
      "Result = 2520\n",
      "\n",
      "num1 = 2520, num2 = 11\n",
      "GCD = 1, LCM = 27720\n",
      "Result = 27720\n",
      "\n",
      "num1 = 27720, num2 = 12\n",
      "GCD = 12, LCM = 27720\n",
      "Result = 27720\n",
      "\n",
      "num1 = 27720, num2 = 13\n",
      "GCD = 1, LCM = 360360\n",
      "Result = 360360\n",
      "\n",
      "num1 = 360360, num2 = 14\n",
      "GCD = 14, LCM = 360360\n",
      "Result = 360360\n",
      "\n",
      "num1 = 360360, num2 = 15\n",
      "GCD = 15, LCM = 360360\n",
      "Result = 360360\n",
      "\n",
      "num1 = 360360, num2 = 16\n",
      "GCD = 8, LCM = 720720\n",
      "Result = 720720\n",
      "\n",
      "num1 = 720720, num2 = 17\n",
      "GCD = 1, LCM = 12252240\n",
      "Result = 12252240\n",
      "\n",
      "num1 = 12252240, num2 = 18\n",
      "GCD = 18, LCM = 12252240\n",
      "Result = 12252240\n",
      "\n",
      "num1 = 12252240, num2 = 19\n",
      "GCD = 1, LCM = 232792560\n",
      "Result = 232792560\n",
      "\n",
      "num1 = 232792560, num2 = 20\n",
      "GCD = 20, LCM = 232792560\n",
      "Result = 232792560\n",
      "\n"
     ]
    }
   ],
   "source": [
    "res = 1\n",
    "for num in range(start, end+1):\n",
    "    res = lcm(res, num, verbose=True)\n",
    "    print (\"Result = \"+str(res)+\"\\n\")"
   ]
  }
 ],
 "metadata": {
  "kernelspec": {
   "display_name": "Python 3",
   "language": "python",
   "name": "python3"
  },
  "language_info": {
   "codemirror_mode": {
    "name": "ipython",
    "version": 3
   },
   "file_extension": ".py",
   "mimetype": "text/x-python",
   "name": "python",
   "nbconvert_exporter": "python",
   "pygments_lexer": "ipython3",
   "version": "3.6.5"
  }
 },
 "nbformat": 4,
 "nbformat_minor": 2
}
