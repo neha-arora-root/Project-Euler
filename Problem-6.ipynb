{
 "cells": [
  {
   "cell_type": "markdown",
   "metadata": {},
   "source": [
    "### Problem-6: Sum square difference"
   ]
  },
  {
   "cell_type": "markdown",
   "metadata": {},
   "source": [
    "The problem requires to subtract the sum of squares of first n numbers from the square of sum of first n numbers."
   ]
  },
  {
   "cell_type": "markdown",
   "metadata": {},
   "source": [
    "### Method 1: Brute Force"
   ]
  },
  {
   "cell_type": "code",
   "execution_count": 1,
   "metadata": {},
   "outputs": [],
   "source": [
    "import time\n",
    "\n",
    "def sum_of_squares(n):\n",
    "    totalSum = 0\n",
    "    for i in range(n+1):\n",
    "        term = i*i\n",
    "        totalSum += term\n",
    "    return totalSum\n",
    "\n",
    "def square_of_sum(n):\n",
    "    sumOfTerms = 0\n",
    "    for i in range(n+1):\n",
    "        sumOfTerms += i\n",
    "    SquaredSum = sumOfTerms * sumOfTerms\n",
    "    return SquaredSum"
   ]
  },
  {
   "cell_type": "code",
   "execution_count": 2,
   "metadata": {},
   "outputs": [
    {
     "name": "stdout",
     "output_type": "stream",
     "text": [
      "Result = 25164150\n",
      "Time taken = 0.0002219676971435547\n"
     ]
    }
   ],
   "source": [
    "start = time.time()\n",
    "n = 100\n",
    "S1 = square_of_sum(n)\n",
    "S2 = sum_of_squares(n)\n",
    "res = S1 - S2\n",
    "end = time.time()\n",
    "timeTaken = end - start\n",
    "\n",
    "print (\"Result = \" + str(res))\n",
    "print (\"Time taken = \" + str(timeTaken))"
   ]
  },
  {
   "cell_type": "markdown",
   "metadata": {},
   "source": [
    "### Method 2: Mathematical Approach\n",
    "\n",
    "Following are some commonly used summations:\n",
    "\n",
    "$$\\sum_{i=1}^{n} i = \\frac{n \\times (n+1)}{2}$$\n",
    "\n",
    "$$\\sum_{i=1}^{n} i^{2} = \\frac{n \\times (n+1) \\times (2n+1)}{6}$$\n",
    "\n",
    "$$\\sum_{i=1}^{n} i^{4} = (\\frac{n \\times (n+1)}{2}) ^ {2} = \\frac{(n \\times (n+1))^{2}}{4}$$\n",
    "\n",
    "#### Required:\n",
    "\n",
    "$$(\\sum_{i=1}^{n} {i})^{2} - \\sum_{i=1}^{n} {i^{2}} = (\\frac{n \\times (n+1)}{2}) ^ {2} - \\frac{n \\times (n+1) \\times (2n+1)}{6}$$"
   ]
  },
  {
   "cell_type": "code",
   "execution_count": 3,
   "metadata": {},
   "outputs": [
    {
     "name": "stdout",
     "output_type": "stream",
     "text": [
      "Result = 25164150\n",
      "Time taken = 0.00013399124145507812\n"
     ]
    }
   ],
   "source": [
    "start = time.time()\n",
    "t1 = int(n*(n+1)/2)\n",
    "S1 = t1**2\n",
    "\n",
    "S2 = int(n*(n+1)*(2*n+1)/6)\n",
    "\n",
    "res = S1-S2\n",
    "\n",
    "end = time.time()\n",
    "timeTaken = end - start\n",
    "\n",
    "print (\"Result = \" + str(res))\n",
    "print (\"Time taken = \" + str(timeTaken))"
   ]
  },
  {
   "cell_type": "markdown",
   "metadata": {},
   "source": [
    "#### Interesting Read:\n",
    "\n",
    "https://brilliant.org/wiki/sum-of-n-n2-or-n3/"
   ]
  }
 ],
 "metadata": {
  "kernelspec": {
   "display_name": "Python 3",
   "language": "python",
   "name": "python3"
  },
  "language_info": {
   "codemirror_mode": {
    "name": "ipython",
    "version": 3
   },
   "file_extension": ".py",
   "mimetype": "text/x-python",
   "name": "python",
   "nbconvert_exporter": "python",
   "pygments_lexer": "ipython3",
   "version": "3.6.4"
  }
 },
 "nbformat": 4,
 "nbformat_minor": 2
}
