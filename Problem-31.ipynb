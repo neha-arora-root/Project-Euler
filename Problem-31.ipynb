{
 "cells": [
  {
   "cell_type": "markdown",
   "metadata": {},
   "source": [
    "## Problem-31. Coin Sums"
   ]
  },
  {
   "cell_type": "code",
   "execution_count": 1,
   "metadata": {},
   "outputs": [],
   "source": [
    "import time"
   ]
  },
  {
   "cell_type": "markdown",
   "metadata": {},
   "source": [
    "## Discussion\n",
    "\n",
    "This is a classic example of application of dynamic programming. This problem can be framed in two contexts: permutations and combinations and how to compute each.  \n",
    "\n",
    "For example:  \n",
    "  \n",
    "Coins: 1, 2, 5  \n",
    "Target: 5  \n",
    "  \n",
    "Trying to build combinations:\n",
    "  \n",
    "For trying to reach target 5, we iterate over every coin and use that coin and the coins previously visited to build all targets possible up to 5:  \n",
    "  \n",
    "For coin 1: [1], [1, 1], [1, 1, 1], [1, 1, 1, 1], [1, 1, 1, 1, 1]  \n",
    "For coin 2: [2], [1, 2], [1, 1, 2], [2, 2], [1, 1, 1, 2], [1, 2, 2]  \n",
    "For coin 5: [5]  \n",
    "  \n",
    "Trying to build permutations:  \n",
    "  \n",
    "For trying to go to target 5, we go from target 1 to target 7.  \n",
    "And for each target, we try with all the coins.  \n",
    "  \n",
    "For target = 1: [1]  \n",
    "For target = 2: [1, 1], [2]\n",
    "For target = 3: [1, 1, 1], [1, 2], [2, 1]  \n",
    "For target = 4: [1, 1, 1, 1], [1, 1, 2], [1, 2, 1], [2, 1, 1], [2, 2]  \n",
    "For target = 5: [1, 1, 1, 1, 1], [1, 1, 2, 1], [1, 2, 1, 1], [1, 1, 1, 2], [1, 2, 2], [2, 1, 1, 1], [2, 2, 1], [2, 1, 2], [5]  "
   ]
  },
  {
   "cell_type": "code",
   "execution_count": 2,
   "metadata": {},
   "outputs": [
    {
     "data": {
      "text/plain": [
       "4"
      ]
     },
     "execution_count": 2,
     "metadata": {},
     "output_type": "execute_result"
    }
   ],
   "source": [
    "def coin_sum_combinations(coins, target):\n",
    "    ways = [0]*(target+1)\n",
    "    ways[0] = 1\n",
    "    for curr_coin in coins:\n",
    "        for curr_target in range(curr_coin, target+1):\n",
    "            ways[curr_target] = ways[curr_target] + ways[curr_target - curr_coin]\n",
    "    return ways[target]\n",
    "\n",
    "# test: should result in 4 cases as shown above.\n",
    "coin_sum_combinations([1, 2, 5], 5)"
   ]
  },
  {
   "cell_type": "code",
   "execution_count": 3,
   "metadata": {},
   "outputs": [
    {
     "data": {
      "text/plain": [
       "9"
      ]
     },
     "execution_count": 3,
     "metadata": {},
     "output_type": "execute_result"
    }
   ],
   "source": [
    "def coin_sum_permutations(coins, target):\n",
    "    ways = [0]*(target+1)\n",
    "    ways[0] = 1\n",
    "    for curr_target in range(1, target+1):\n",
    "        for curr_coin in coins:\n",
    "            if curr_coin > curr_target:\n",
    "                break\n",
    "            ways[curr_target] = ways[curr_target] + ways[curr_target-curr_coin]\n",
    "    return ways[target]\n",
    "\n",
    "# test: should result in 9 cases as shown above.\n",
    "coin_sum_permutations([1, 2, 5], 5)"
   ]
  },
  {
   "cell_type": "code",
   "execution_count": 4,
   "metadata": {},
   "outputs": [
    {
     "name": "stdout",
     "output_type": "stream",
     "text": [
      "Combinations for achieving target of 200: 73682\n",
      "Computed in 0.356674 ms.\n",
      "\n",
      "Permutations for achieving target of 200: 23605209427717177391422967983790010220492941500\n",
      "Computed in 0.311136 ms.\n",
      "\n"
     ]
    }
   ],
   "source": [
    "coins = [1, 2, 5, 10, 20, 50, 100, 200]\n",
    "target = 200\n",
    "\n",
    "start1 = time.time()\n",
    "print(\"Combinations for achieving target of 200: %d\" % (coin_sum_combinations(coins, target)))\n",
    "print(\"Computed in %f ms.\\n\" % ((time.time() - start1)*1000))\n",
    "\n",
    "start2 = time.time()\n",
    "print(\"Permutations for achieving target of 200: %d\" % (coin_sum_permutations(coins, target)))\n",
    "print(\"Computed in %f ms.\\n\" % ((time.time() - start2)*1000))"
   ]
  },
  {
   "cell_type": "markdown",
   "metadata": {},
   "source": [
    "## Discussion\n",
    "\n",
    "A careful reader would note that the variables in outer and inner loop change for the two variations but the memoization technique remains the same.  \n",
    "\n",
    "Therefore, for the case of combinations, we want to iterate over each coin and see the targets it can produce by its own and the coins that we have already considered.\n",
    "\n",
    "Whereas, for the case of permutations, we iterate over each target and use all coins in all possible orders to achieve it."
   ]
  },
  {
   "cell_type": "markdown",
   "metadata": {},
   "source": [
    "## Other variations\n",
    "\n",
    "In the same vein, there are two more variations for this problem:\n",
    "\n",
    "I. When there is a finite supply of distinct coins.  \n",
    "II. When there is a finite supply of coins.  \n",
    "  \n",
    "Let's take an example for each:  \n",
    "  \n",
    "**I. When there is a finite supply of distinct coins**:\n",
    "  \n",
    "Coins: [1, 2, 3, 5, 10]  \n",
    "Target: 10  \n",
    "Possibilities: [2, 3, 5], [10]  \n",
    "  \n",
    "**II. When there is a finite supply of coins**:\n",
    "  \n",
    "Coins: [1, 1, 2, 3, 3, 5, 10]  \n",
    "Target: 10  \n",
    "Possibilities: [1, 1, 2, 3, 3], [1, 1, 3, 5], [2, 3, 5], [10]  "
   ]
  },
  {
   "cell_type": "code",
   "execution_count": 5,
   "metadata": {},
   "outputs": [
    {
     "name": "stdout",
     "output_type": "stream",
     "text": [
      "2\n"
     ]
    }
   ],
   "source": [
    "# Case I: Limited distinct coins.\n",
    "def get_possibilities_limited_distinct_util(coins, target, begin, end):\n",
    "    if begin > end:\n",
    "        return 0\n",
    "    ways = 0\n",
    "    for i in range(begin, end+1):\n",
    "        curr_coin = coins[i]\n",
    "        if curr_coin > target:\n",
    "            break\n",
    "        if curr_coin == target:\n",
    "            ways = ways+1\n",
    "            break\n",
    "        ways = ways + get_possibilities_limited_distinct_util(coins, target-curr_coin, i+1, end)\n",
    "    return ways\n",
    "\n",
    "def get_possibilities_limited_distinct(coins, target):\n",
    "    return get_possibilities_limited_distinct_util(coins, target, 0, len(coins)-1)\n",
    "\n",
    "# test\n",
    "coins = [1, 2, 3, 5, 10]\n",
    "target = 10\n",
    "# Possibilities: [2, 3, 5], [10]\n",
    "print(get_possibilities_limited_distinct(coins, target))"
   ]
  },
  {
   "cell_type": "code",
   "execution_count": 6,
   "metadata": {},
   "outputs": [
    {
     "name": "stdout",
     "output_type": "stream",
     "text": [
      "4\n"
     ]
    }
   ],
   "source": [
    "# Case II: Limited coins.\n",
    "def get_possibilities_limited_util(coins, target, begin, end):\n",
    "    if begin > end:\n",
    "        return 0\n",
    "    ways = 0\n",
    "    for i in range(begin, end+1):\n",
    "        if i > begin and coins[i] == coins[i-1]:\n",
    "            continue\n",
    "        curr_coin = coins[i]\n",
    "        if curr_coin > target:\n",
    "            break\n",
    "        if curr_coin == target:\n",
    "            ways = ways+1\n",
    "            break\n",
    "        ways = ways + get_possibilities_limited_util(coins, target-curr_coin, i+1, end)\n",
    "    return ways\n",
    "\n",
    "def get_possibilities_limited(coins, target):\n",
    "    return get_possibilities_limited_util(coins, target, 0, len(coins)-1)\n",
    "\n",
    "# test\n",
    "coins = [1, 1, 2, 3, 3, 5, 10]\n",
    "target = 10\n",
    "# Possibilities: [1, 1, 2, 3, 3], [1, 1, 3, 5], [2, 3, 5], [10]\n",
    "print(get_possibilities_limited(coins, target))"
   ]
  }
 ],
 "metadata": {
  "kernelspec": {
   "display_name": "Python 3",
   "language": "python",
   "name": "python3"
  },
  "language_info": {
   "codemirror_mode": {
    "name": "ipython",
    "version": 3
   },
   "file_extension": ".py",
   "mimetype": "text/x-python",
   "name": "python",
   "nbconvert_exporter": "python",
   "pygments_lexer": "ipython3",
   "version": "3.6.5"
  }
 },
 "nbformat": 4,
 "nbformat_minor": 2
}
