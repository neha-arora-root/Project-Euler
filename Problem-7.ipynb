{
 "cells": [
  {
   "cell_type": "markdown",
   "metadata": {},
   "source": [
    "By listing the first six prime numbers: 2, 3, 5, 7, 11, and 13, we can see that the 6th prime is 13.\n",
    "\n",
    "What is the 10 001st prime number?"
   ]
  },
  {
   "cell_type": "code",
   "execution_count": 1,
   "metadata": {},
   "outputs": [],
   "source": [
    "import numpy as np\n",
    "import math\n",
    "import time"
   ]
  },
  {
   "cell_type": "markdown",
   "metadata": {},
   "source": [
    "## Brute Force"
   ]
  },
  {
   "cell_type": "code",
   "execution_count": 5,
   "metadata": {},
   "outputs": [],
   "source": [
    "def is_prime(num):\n",
    "    if num % 2 == 0:\n",
    "        return False\n",
    "    limit = math.ceil(num**0.5 + 1)\n",
    "    \n",
    "    start = 3\n",
    "    \n",
    "    for x in range(start, limit+1, 2):\n",
    "        if num%x == 0:\n",
    "            return False\n",
    "    return True"
   ]
  },
  {
   "cell_type": "code",
   "execution_count": 6,
   "metadata": {},
   "outputs": [
    {
     "name": "stdout",
     "output_type": "stream",
     "text": [
      "The 10001st prime is:  104743\n",
      "Time taken: 0.108836 sec\n"
     ]
    }
   ],
   "source": [
    "start = time.time()\n",
    "count = 2\n",
    "primes = [2, 3]\n",
    "\n",
    "num = 5\n",
    "while count <= 10001:\n",
    "    if is_prime(num):\n",
    "        primes.append(num)\n",
    "        count += 1\n",
    "    num += 2\n",
    "\n",
    "end = time.time()\n",
    "print(\"The 10001st prime is: \", primes[10000])\n",
    "print(\"Time taken: %f sec\" % (end - start))"
   ]
  },
  {
   "cell_type": "markdown",
   "metadata": {},
   "source": [
    "## Using Sieve of Eratosthenes\n",
    "\n",
    "For finding a prime $\\leq$ n, the following procedure helps to find the primes in linear time.\n",
    "<ol>\n",
    "<li> Make an array from 1 to n and mark all as True.\n",
    "<li> Deal with the edge case: We know that 1 is neither prime nor composite, so we mark the first element in the array as False.\n",
    "<li> Starting from the next element up to ceiling(n/2), we do either of the following:\n",
    "    - If element is True, we mark all its multiples as False.\n",
    "    - If element is False, we move to the next element.\n",
    "</ol>\n",
    "This routine leaves us with all the primes $\\leq$ n.\n",
    "\n",
    "Example:\n",
    "n = 10\n",
    "<ul>\n",
    "<li>Step 0: Array [False, True, True, True, True, True, True, True, True, True]\n",
    "<li>Step 1: Move to next element\n",
    "<li>Step 2: Mark all multiples of 2 as False: Array [False, True, True, False, True, False, True, False, True, False]\n",
    "<li>Step 3: Mark all multiples of 3 as False: Array [False, True, True, False, True, False, True, False, False, False]\n",
    "<li>Step 4: Move to next element\n",
    "<li>Step 5: Mark all multiples of 5 as False: Array [False, True, True, False, True, False, True, False, False, False]\n",
    "</ul>\n",
    "Therefore, the primes are: 2, 3, 5, 7."
   ]
  },
  {
   "cell_type": "code",
   "execution_count": null,
   "metadata": {},
   "outputs": [],
   "source": []
  }
 ],
 "metadata": {
  "kernelspec": {
   "display_name": "Python 3",
   "language": "python",
   "name": "python3"
  },
  "language_info": {
   "codemirror_mode": {
    "name": "ipython",
    "version": 3
   },
   "file_extension": ".py",
   "mimetype": "text/x-python",
   "name": "python",
   "nbconvert_exporter": "python",
   "pygments_lexer": "ipython3",
   "version": "3.6.5"
  }
 },
 "nbformat": 4,
 "nbformat_minor": 2
}
